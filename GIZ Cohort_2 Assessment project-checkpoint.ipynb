{
 "cells": [
  {
   "cell_type": "markdown",
   "metadata": {},
   "source": [
    "# Enter your details in the cells below"
   ]
  },
  {
   "cell_type": "code",
   "execution_count": null,
   "metadata": {},
   "outputs": [],
   "source": [
    "#Type your fullname here: Paul Asamoah Boadu"
   ]
  },
  {
   "cell_type": "code",
   "execution_count": null,
   "metadata": {},
   "outputs": [],
   "source": [
    "#Type your email here: asamoahboadupaul@yahoo.com"
   ]
  },
  {
   "cell_type": "markdown",
   "metadata": {},
   "source": [
    "#  Project\n",
    "### Problem Statement\n",
    "\n",
    "Buymore is a fast growing supermarket in Ghana that is taking advantage of the data revolution to make data driven decisions.\n",
    "As their Data Scientist, you are presented with the 2013 daily sales records (Buymore_sales_data.csv) and tasked to help them find answers to the questions below by analysing the given data.\n",
    "\n",
    "1. i. What is the average sales and profit per market? \n",
    "\n",
    "   ii.Plot a stacked bar chart showing the average sales and profit per market.\n",
    "   \n",
    "   iii.Which market brings more sales on the average?\n",
    "\n",
    "\n",
    "2. i. Extract the days(eg:Monday,Tuesday...) and months(eg:January,February...) from the Order Date and add them to the data frame with the name \"Days\" and \"Months\" respectively?\n",
    "\n",
    "   ii.Show the trend of profit from January to December with a line plot.\n",
    "\n",
    "   iii.  Based on the data, which day does the company make high sales on the average?\n",
    "\n",
    "3. i. What is the correlation between sales and profit, what does that mean?\n",
    "\n",
    "   ii. Use a scatter plot to show the relationship between sales and profit.\n",
    "\n",
    "4. i. Plot a grouped bar chart showing the total profit for the different product category(Category) for each market.\n",
    "\n",
    "   ii. From your graph, which product category performs well in each market?\n",
    "\n",
    "#### Notes:\n",
    "* Add titles and labels to your charts.\n",
    "* Use markdowns to write your answers or findings where necessary.\n",
    "* Use comments to exlain you codes where necessary \n",
    "* Remember to import the necessary packages\n",
    "\n",
    "**Thank you**\n",
    "\n",
    "**GOOD LUCK!**\n",
    "\n",
    "\n",
    "\n"
   ]
  },
  {
   "cell_type": "code",
   "execution_count": null,
   "metadata": {},
   "outputs": [],
   "source": []
  },
  {
   "cell_type": "markdown",
   "metadata": {},
   "source": [
    "#### **NB**: To easily load the data, it's advisable you have the data and the notebook file  in the same folder"
   ]
  },
  {
   "cell_type": "code",
   "execution_count": 1,
   "metadata": {},
   "outputs": [],
   "source": [
    "#import your packages here\n",
    "\n",
    "#Data manipulation \n",
    "import numpy as np\n",
    "import pandas as pd\n",
    "\n",
    "#Data visualisation\n",
    "import matplotlib.pyplot as plt\n",
    "%matplotlib inline"
   ]
  },
  {
   "cell_type": "code",
   "execution_count": 2,
   "metadata": {},
   "outputs": [],
   "source": [
    "df = pd.read_csv(\"Buymore_sales_data.csv\")"
   ]
  },
  {
   "cell_type": "code",
   "execution_count": 3,
   "metadata": {},
   "outputs": [
    {
     "data": {
      "text/html": [
       "<div>\n",
       "<style scoped>\n",
       "    .dataframe tbody tr th:only-of-type {\n",
       "        vertical-align: middle;\n",
       "    }\n",
       "\n",
       "    .dataframe tbody tr th {\n",
       "        vertical-align: top;\n",
       "    }\n",
       "\n",
       "    .dataframe thead th {\n",
       "        text-align: right;\n",
       "    }\n",
       "</style>\n",
       "<table border=\"1\" class=\"dataframe\">\n",
       "  <thead>\n",
       "    <tr style=\"text-align: right;\">\n",
       "      <th></th>\n",
       "      <th>Order Date</th>\n",
       "      <th>Order ID</th>\n",
       "      <th>Market</th>\n",
       "      <th>Category</th>\n",
       "      <th>Sales</th>\n",
       "      <th>Quantity</th>\n",
       "      <th>Profit</th>\n",
       "    </tr>\n",
       "  </thead>\n",
       "  <tbody>\n",
       "    <tr>\n",
       "      <th>0</th>\n",
       "      <td>2013-01-01</td>\n",
       "      <td>ID-2013-37383</td>\n",
       "      <td>Kumasi</td>\n",
       "      <td>Technology</td>\n",
       "      <td>1649.214</td>\n",
       "      <td>7</td>\n",
       "      <td>36.624</td>\n",
       "    </tr>\n",
       "    <tr>\n",
       "      <th>1</th>\n",
       "      <td>2013-01-01</td>\n",
       "      <td>IN-2013-47960</td>\n",
       "      <td>Kumasi</td>\n",
       "      <td>Furniture</td>\n",
       "      <td>1358.280</td>\n",
       "      <td>7</td>\n",
       "      <td>203.700</td>\n",
       "    </tr>\n",
       "    <tr>\n",
       "      <th>2</th>\n",
       "      <td>2013-01-01</td>\n",
       "      <td>ID-2013-37383</td>\n",
       "      <td>Kumasi</td>\n",
       "      <td>Technology</td>\n",
       "      <td>728.568</td>\n",
       "      <td>8</td>\n",
       "      <td>-32.472</td>\n",
       "    </tr>\n",
       "    <tr>\n",
       "      <th>3</th>\n",
       "      <td>2013-01-01</td>\n",
       "      <td>IN-2013-47960</td>\n",
       "      <td>Kumasi</td>\n",
       "      <td>Furniture</td>\n",
       "      <td>2189.520</td>\n",
       "      <td>6</td>\n",
       "      <td>372.060</td>\n",
       "    </tr>\n",
       "    <tr>\n",
       "      <th>4</th>\n",
       "      <td>2013-01-01</td>\n",
       "      <td>IN-2013-47960</td>\n",
       "      <td>Kumasi</td>\n",
       "      <td>Furniture</td>\n",
       "      <td>1362.060</td>\n",
       "      <td>7</td>\n",
       "      <td>340.410</td>\n",
       "    </tr>\n",
       "  </tbody>\n",
       "</table>\n",
       "</div>"
      ],
      "text/plain": [
       "   Order Date       Order ID  Market    Category     Sales  Quantity   Profit\n",
       "0  2013-01-01  ID-2013-37383  Kumasi  Technology  1649.214         7   36.624\n",
       "1  2013-01-01  IN-2013-47960  Kumasi   Furniture  1358.280         7  203.700\n",
       "2  2013-01-01  ID-2013-37383  Kumasi  Technology   728.568         8  -32.472\n",
       "3  2013-01-01  IN-2013-47960  Kumasi   Furniture  2189.520         6  372.060\n",
       "4  2013-01-01  IN-2013-47960  Kumasi   Furniture  1362.060         7  340.410"
      ]
     },
     "execution_count": 3,
     "metadata": {},
     "output_type": "execute_result"
    }
   ],
   "source": [
    "# Load the sales data here\n",
    "\n",
    "df.head()"
   ]
  },
  {
   "cell_type": "code",
   "execution_count": 5,
   "metadata": {},
   "outputs": [
    {
     "data": {
      "text/plain": [
       "(13799, 7)"
      ]
     },
     "execution_count": 5,
     "metadata": {},
     "output_type": "execute_result"
    }
   ],
   "source": [
    "#Shape of Data set\n",
    "\n",
    "df.shape"
   ]
  },
  {
   "cell_type": "code",
   "execution_count": 6,
   "metadata": {},
   "outputs": [
    {
     "data": {
      "text/plain": [
       "Index(['Order Date', 'Order ID', 'Market', 'Category', 'Sales', 'Quantity',\n",
       "       'Profit'],\n",
       "      dtype='object')"
      ]
     },
     "execution_count": 6,
     "metadata": {},
     "output_type": "execute_result"
    }
   ],
   "source": [
    "#Columns present in the data\n",
    "\n",
    "df.columns"
   ]
  },
  {
   "cell_type": "code",
   "execution_count": 7,
   "metadata": {},
   "outputs": [
    {
     "name": "stdout",
     "output_type": "stream",
     "text": [
      "<class 'pandas.core.frame.DataFrame'>\n",
      "RangeIndex: 13799 entries, 0 to 13798\n",
      "Data columns (total 7 columns):\n",
      " #   Column      Non-Null Count  Dtype  \n",
      "---  ------      --------------  -----  \n",
      " 0   Order Date  13799 non-null  object \n",
      " 1   Order ID    13799 non-null  object \n",
      " 2   Market      13799 non-null  object \n",
      " 3   Category    13799 non-null  object \n",
      " 4   Sales       13799 non-null  float64\n",
      " 5   Quantity    13799 non-null  int64  \n",
      " 6   Profit      13799 non-null  float64\n",
      "dtypes: float64(2), int64(1), object(4)\n",
      "memory usage: 754.8+ KB\n"
     ]
    }
   ],
   "source": [
    "#Summary of the data\n",
    "df.info()"
   ]
  },
  {
   "cell_type": "code",
   "execution_count": 8,
   "metadata": {},
   "outputs": [
    {
     "data": {
      "text/plain": [
       "Order Date    0\n",
       "Order ID      0\n",
       "Market        0\n",
       "Category      0\n",
       "Sales         0\n",
       "Quantity      0\n",
       "Profit        0\n",
       "dtype: int64"
      ]
     },
     "execution_count": 8,
     "metadata": {},
     "output_type": "execute_result"
    }
   ],
   "source": [
    "#Checking missing values\n",
    "\n",
    "df.isnull().sum()"
   ]
  },
  {
   "cell_type": "code",
   "execution_count": 9,
   "metadata": {},
   "outputs": [
    {
     "data": {
      "text/html": [
       "<div>\n",
       "<style scoped>\n",
       "    .dataframe tbody tr th:only-of-type {\n",
       "        vertical-align: middle;\n",
       "    }\n",
       "\n",
       "    .dataframe tbody tr th {\n",
       "        vertical-align: top;\n",
       "    }\n",
       "\n",
       "    .dataframe thead th {\n",
       "        text-align: right;\n",
       "    }\n",
       "</style>\n",
       "<table border=\"1\" class=\"dataframe\">\n",
       "  <thead>\n",
       "    <tr style=\"text-align: right;\">\n",
       "      <th></th>\n",
       "      <th>Sales</th>\n",
       "      <th>Quantity</th>\n",
       "      <th>Profit</th>\n",
       "    </tr>\n",
       "  </thead>\n",
       "  <tbody>\n",
       "    <tr>\n",
       "      <th>count</th>\n",
       "      <td>13799.000000</td>\n",
       "      <td>13799.000000</td>\n",
       "      <td>13799.000000</td>\n",
       "    </tr>\n",
       "    <tr>\n",
       "      <th>mean</th>\n",
       "      <td>246.811106</td>\n",
       "      <td>3.488369</td>\n",
       "      <td>29.490197</td>\n",
       "    </tr>\n",
       "    <tr>\n",
       "      <th>std</th>\n",
       "      <td>494.719419</td>\n",
       "      <td>2.280165</td>\n",
       "      <td>190.361319</td>\n",
       "    </tr>\n",
       "    <tr>\n",
       "      <th>min</th>\n",
       "      <td>0.836000</td>\n",
       "      <td>1.000000</td>\n",
       "      <td>-6599.978000</td>\n",
       "    </tr>\n",
       "    <tr>\n",
       "      <th>25%</th>\n",
       "      <td>30.816000</td>\n",
       "      <td>2.000000</td>\n",
       "      <td>0.000000</td>\n",
       "    </tr>\n",
       "    <tr>\n",
       "      <th>50%</th>\n",
       "      <td>85.232000</td>\n",
       "      <td>3.000000</td>\n",
       "      <td>9.240000</td>\n",
       "    </tr>\n",
       "    <tr>\n",
       "      <th>75%</th>\n",
       "      <td>249.720000</td>\n",
       "      <td>5.000000</td>\n",
       "      <td>36.852000</td>\n",
       "    </tr>\n",
       "    <tr>\n",
       "      <th>max</th>\n",
       "      <td>17499.950000</td>\n",
       "      <td>14.000000</td>\n",
       "      <td>8399.976000</td>\n",
       "    </tr>\n",
       "  </tbody>\n",
       "</table>\n",
       "</div>"
      ],
      "text/plain": [
       "              Sales      Quantity        Profit\n",
       "count  13799.000000  13799.000000  13799.000000\n",
       "mean     246.811106      3.488369     29.490197\n",
       "std      494.719419      2.280165    190.361319\n",
       "min        0.836000      1.000000  -6599.978000\n",
       "25%       30.816000      2.000000      0.000000\n",
       "50%       85.232000      3.000000      9.240000\n",
       "75%      249.720000      5.000000     36.852000\n",
       "max    17499.950000     14.000000   8399.976000"
      ]
     },
     "execution_count": 9,
     "metadata": {},
     "output_type": "execute_result"
    }
   ],
   "source": [
    "#Descriptive summary of the data\n",
    "\n",
    "df.describe()"
   ]
  },
  {
   "cell_type": "markdown",
   "metadata": {},
   "source": [
    "<b>The average sales and profit per market"
   ]
  },
  {
   "cell_type": "code",
   "execution_count": 17,
   "metadata": {},
   "outputs": [
    {
     "data": {
      "text/html": [
       "<div>\n",
       "<style scoped>\n",
       "    .dataframe tbody tr th:only-of-type {\n",
       "        vertical-align: middle;\n",
       "    }\n",
       "\n",
       "    .dataframe tbody tr th {\n",
       "        vertical-align: top;\n",
       "    }\n",
       "\n",
       "    .dataframe thead th {\n",
       "        text-align: right;\n",
       "    }\n",
       "</style>\n",
       "<table border=\"1\" class=\"dataframe\">\n",
       "  <thead>\n",
       "    <tr style=\"text-align: right;\">\n",
       "      <th></th>\n",
       "      <th>Sales</th>\n",
       "      <th>Quantity</th>\n",
       "      <th>Profit</th>\n",
       "    </tr>\n",
       "    <tr>\n",
       "      <th>Market</th>\n",
       "      <th></th>\n",
       "      <th></th>\n",
       "      <th></th>\n",
       "    </tr>\n",
       "  </thead>\n",
       "  <tbody>\n",
       "    <tr>\n",
       "      <th>Accra</th>\n",
       "      <td>198.738815</td>\n",
       "      <td>3.723529</td>\n",
       "      <td>20.070383</td>\n",
       "    </tr>\n",
       "    <tr>\n",
       "      <th>Bawku</th>\n",
       "      <td>292.778971</td>\n",
       "      <td>3.732283</td>\n",
       "      <td>38.771895</td>\n",
       "    </tr>\n",
       "    <tr>\n",
       "      <th>Koforidua</th>\n",
       "      <td>235.842570</td>\n",
       "      <td>3.802326</td>\n",
       "      <td>31.677105</td>\n",
       "    </tr>\n",
       "    <tr>\n",
       "      <th>Kumasi</th>\n",
       "      <td>337.225210</td>\n",
       "      <td>3.800346</td>\n",
       "      <td>42.596237</td>\n",
       "    </tr>\n",
       "    <tr>\n",
       "      <th>Takoradi</th>\n",
       "      <td>166.683119</td>\n",
       "      <td>2.303997</td>\n",
       "      <td>14.329422</td>\n",
       "    </tr>\n",
       "  </tbody>\n",
       "</table>\n",
       "</div>"
      ],
      "text/plain": [
       "                Sales  Quantity     Profit\n",
       "Market                                    \n",
       "Accra      198.738815  3.723529  20.070383\n",
       "Bawku      292.778971  3.732283  38.771895\n",
       "Koforidua  235.842570  3.802326  31.677105\n",
       "Kumasi     337.225210  3.800346  42.596237\n",
       "Takoradi   166.683119  2.303997  14.329422"
      ]
     },
     "execution_count": 17,
     "metadata": {},
     "output_type": "execute_result"
    }
   ],
   "source": [
    "#Average Sales and Profit per market\n",
    "\n",
    "average_df = df.groupby([\"Market\"]).mean()\n",
    "average_df"
   ]
  },
  {
   "cell_type": "code",
   "execution_count": 21,
   "metadata": {},
   "outputs": [
    {
     "data": {
      "image/png": "[encoded data removed]",
      "text/plain": [
       "<Figure size 432x288 with 1 Axes>"
      ]
     },
     "metadata": {
      "needs_background": "light"
     },
     "output_type": "display_data"
    }
   ],
   "source": [
    "#Plotting a stacked bar chart showing the average slaes and profit per market\n",
    "market = [\"Accra\", \"Bawku\", \"Koforidua\", \"Kumasi\", \"Takoradi\"]\n",
    "sales = [198.738815, 292.778971, 235.842570, 337.225210, 166.683119]\n",
    "profit = [20.070383, 38.771895, 31.677105, 42.596237, 14.329422]\n",
    "\n",
    "#Width of stacked bar chart\n",
    "w = 0.6\n",
    "\n",
    "#Plots of stacked bar chart\n",
    "plt.barh(market, sales, w, label = \"Sales\")\n",
    "plt.barh(market, profit, w, left = sales, label = \"Profit\")\n",
    "\n",
    "#Labels of stacked bar chart\n",
    "plt.xlabel(\"Market\")\n",
    "plt.ylabel(\"Average of Sales and Profit\")\n",
    "plt.title(\"A stacked bar chart showing the average sales and profit per market\")\n",
    "plt.legend()\n",
    "plt.show()"
   ]
  },
  {
   "cell_type": "markdown",
   "metadata": {},
   "source": [
    "From the graph above, Kumasi is the market which brings sales on average compared to the other market."
   ]
  },
  {
   "cell_type": "markdown",
   "metadata": {},
   "source": [
    "<b>Extracting the day and month form the Order Date and add them to the frame with repective names"
   ]
  },
  {
   "cell_type": "code",
   "execution_count": 22,
   "metadata": {},
   "outputs": [],
   "source": [
    "#Changing Order Date datetype from object to datetime\n",
    "\n",
    "df[\"Order Date\"] = pd.to_datetime(df[\"Order Date\"])"
   ]
  },
  {
   "cell_type": "code",
   "execution_count": 23,
   "metadata": {},
   "outputs": [
    {
     "data": {
      "text/plain": [
       "0        Tuesday\n",
       "1        Tuesday\n",
       "2        Tuesday\n",
       "3        Tuesday\n",
       "4        Tuesday\n",
       "          ...   \n",
       "13794    Tuesday\n",
       "13795    Tuesday\n",
       "13796    Tuesday\n",
       "13797    Tuesday\n",
       "13798    Tuesday\n",
       "Name: Order Date, Length: 13799, dtype: object"
      ]
     },
     "execution_count": 23,
     "metadata": {},
     "output_type": "execute_result"
    }
   ],
   "source": [
    "#Extracting days\n",
    "\n",
    "df[\"Order Date\"].dt.strftime(\"%A\")"
   ]
  },
  {
   "cell_type": "code",
   "execution_count": 24,
   "metadata": {},
   "outputs": [
    {
     "data": {
      "text/plain": [
       "0         January\n",
       "1         January\n",
       "2         January\n",
       "3         January\n",
       "4         January\n",
       "           ...   \n",
       "13794    December\n",
       "13795    December\n",
       "13796    December\n",
       "13797    December\n",
       "13798    December\n",
       "Name: Order Date, Length: 13799, dtype: object"
      ]
     },
     "execution_count": 24,
     "metadata": {},
     "output_type": "execute_result"
    }
   ],
   "source": [
    "#Extracting months\n",
    "\n",
    "df[\"Order Date\"].dt.strftime(\"%B\")"
   ]
  },
  {
   "cell_type": "code",
   "execution_count": 25,
   "metadata": {},
   "outputs": [
    {
     "data": {
      "text/html": [
       "<div>\n",
       "<style scoped>\n",
       "    .dataframe tbody tr th:only-of-type {\n",
       "        vertical-align: middle;\n",
       "    }\n",
       "\n",
       "    .dataframe tbody tr th {\n",
       "        vertical-align: top;\n",
       "    }\n",
       "\n",
       "    .dataframe thead th {\n",
       "        text-align: right;\n",
       "    }\n",
       "</style>\n",
       "<table border=\"1\" class=\"dataframe\">\n",
       "  <thead>\n",
       "    <tr style=\"text-align: right;\">\n",
       "      <th></th>\n",
       "      <th>Order Date</th>\n",
       "      <th>Order ID</th>\n",
       "      <th>Market</th>\n",
       "      <th>Category</th>\n",
       "      <th>Sales</th>\n",
       "      <th>Quantity</th>\n",
       "      <th>Profit</th>\n",
       "      <th>Day</th>\n",
       "      <th>Month</th>\n",
       "    </tr>\n",
       "  </thead>\n",
       "  <tbody>\n",
       "    <tr>\n",
       "      <th>0</th>\n",
       "      <td>2013-01-01</td>\n",
       "      <td>ID-2013-37383</td>\n",
       "      <td>Kumasi</td>\n",
       "      <td>Technology</td>\n",
       "      <td>1649.214</td>\n",
       "      <td>7</td>\n",
       "      <td>36.6240</td>\n",
       "      <td>01/01</td>\n",
       "      <td>01/13</td>\n",
       "    </tr>\n",
       "    <tr>\n",
       "      <th>1</th>\n",
       "      <td>2013-01-01</td>\n",
       "      <td>IN-2013-47960</td>\n",
       "      <td>Kumasi</td>\n",
       "      <td>Furniture</td>\n",
       "      <td>1358.280</td>\n",
       "      <td>7</td>\n",
       "      <td>203.7000</td>\n",
       "      <td>01/01</td>\n",
       "      <td>01/13</td>\n",
       "    </tr>\n",
       "    <tr>\n",
       "      <th>2</th>\n",
       "      <td>2013-01-01</td>\n",
       "      <td>ID-2013-37383</td>\n",
       "      <td>Kumasi</td>\n",
       "      <td>Technology</td>\n",
       "      <td>728.568</td>\n",
       "      <td>8</td>\n",
       "      <td>-32.4720</td>\n",
       "      <td>01/01</td>\n",
       "      <td>01/13</td>\n",
       "    </tr>\n",
       "    <tr>\n",
       "      <th>3</th>\n",
       "      <td>2013-01-01</td>\n",
       "      <td>IN-2013-47960</td>\n",
       "      <td>Kumasi</td>\n",
       "      <td>Furniture</td>\n",
       "      <td>2189.520</td>\n",
       "      <td>6</td>\n",
       "      <td>372.0600</td>\n",
       "      <td>01/01</td>\n",
       "      <td>01/13</td>\n",
       "    </tr>\n",
       "    <tr>\n",
       "      <th>4</th>\n",
       "      <td>2013-01-01</td>\n",
       "      <td>IN-2013-47960</td>\n",
       "      <td>Kumasi</td>\n",
       "      <td>Furniture</td>\n",
       "      <td>1362.060</td>\n",
       "      <td>7</td>\n",
       "      <td>340.4100</td>\n",
       "      <td>01/01</td>\n",
       "      <td>01/13</td>\n",
       "    </tr>\n",
       "    <tr>\n",
       "      <th>...</th>\n",
       "      <td>...</td>\n",
       "      <td>...</td>\n",
       "      <td>...</td>\n",
       "      <td>...</td>\n",
       "      <td>...</td>\n",
       "      <td>...</td>\n",
       "      <td>...</td>\n",
       "      <td>...</td>\n",
       "      <td>...</td>\n",
       "    </tr>\n",
       "    <tr>\n",
       "      <th>13794</th>\n",
       "      <td>2013-12-31</td>\n",
       "      <td>TU-2013-9400</td>\n",
       "      <td>Takoradi</td>\n",
       "      <td>Furniture</td>\n",
       "      <td>10.080</td>\n",
       "      <td>1</td>\n",
       "      <td>-5.5500</td>\n",
       "      <td>31/12</td>\n",
       "      <td>12/13</td>\n",
       "    </tr>\n",
       "    <tr>\n",
       "      <th>13795</th>\n",
       "      <td>2013-12-31</td>\n",
       "      <td>CA-2013-163951</td>\n",
       "      <td>Koforidua</td>\n",
       "      <td>Office Supplies</td>\n",
       "      <td>16.520</td>\n",
       "      <td>5</td>\n",
       "      <td>1.6520</td>\n",
       "      <td>31/12</td>\n",
       "      <td>12/13</td>\n",
       "    </tr>\n",
       "    <tr>\n",
       "      <th>13796</th>\n",
       "      <td>2013-12-31</td>\n",
       "      <td>US-2013-111528</td>\n",
       "      <td>Koforidua</td>\n",
       "      <td>Office Supplies</td>\n",
       "      <td>6.384</td>\n",
       "      <td>1</td>\n",
       "      <td>2.1546</td>\n",
       "      <td>31/12</td>\n",
       "      <td>12/13</td>\n",
       "    </tr>\n",
       "    <tr>\n",
       "      <th>13797</th>\n",
       "      <td>2013-12-31</td>\n",
       "      <td>CA-2013-117660</td>\n",
       "      <td>Koforidua</td>\n",
       "      <td>Office Supplies</td>\n",
       "      <td>5.904</td>\n",
       "      <td>2</td>\n",
       "      <td>1.9926</td>\n",
       "      <td>31/12</td>\n",
       "      <td>12/13</td>\n",
       "    </tr>\n",
       "    <tr>\n",
       "      <th>13798</th>\n",
       "      <td>2013-12-31</td>\n",
       "      <td>IZ-2013-2550</td>\n",
       "      <td>Takoradi</td>\n",
       "      <td>Office Supplies</td>\n",
       "      <td>13.020</td>\n",
       "      <td>1</td>\n",
       "      <td>4.0200</td>\n",
       "      <td>31/12</td>\n",
       "      <td>12/13</td>\n",
       "    </tr>\n",
       "  </tbody>\n",
       "</table>\n",
       "<p>13799 rows × 9 columns</p>\n",
       "</div>"
      ],
      "text/plain": [
       "      Order Date        Order ID     Market         Category     Sales  \\\n",
       "0     2013-01-01   ID-2013-37383     Kumasi       Technology  1649.214   \n",
       "1     2013-01-01   IN-2013-47960     Kumasi        Furniture  1358.280   \n",
       "2     2013-01-01   ID-2013-37383     Kumasi       Technology   728.568   \n",
       "3     2013-01-01   IN-2013-47960     Kumasi        Furniture  2189.520   \n",
       "4     2013-01-01   IN-2013-47960     Kumasi        Furniture  1362.060   \n",
       "...          ...             ...        ...              ...       ...   \n",
       "13794 2013-12-31    TU-2013-9400   Takoradi        Furniture    10.080   \n",
       "13795 2013-12-31  CA-2013-163951  Koforidua  Office Supplies    16.520   \n",
       "13796 2013-12-31  US-2013-111528  Koforidua  Office Supplies     6.384   \n",
       "13797 2013-12-31  CA-2013-117660  Koforidua  Office Supplies     5.904   \n",
       "13798 2013-12-31    IZ-2013-2550   Takoradi  Office Supplies    13.020   \n",
       "\n",
       "       Quantity    Profit    Day  Month  \n",
       "0             7   36.6240  01/01  01/13  \n",
       "1             7  203.7000  01/01  01/13  \n",
       "2             8  -32.4720  01/01  01/13  \n",
       "3             6  372.0600  01/01  01/13  \n",
       "4             7  340.4100  01/01  01/13  \n",
       "...         ...       ...    ...    ...  \n",
       "13794         1   -5.5500  31/12  12/13  \n",
       "13795         5    1.6520  31/12  12/13  \n",
       "13796         1    2.1546  31/12  12/13  \n",
       "13797         2    1.9926  31/12  12/13  \n",
       "13798         1    4.0200  31/12  12/13  \n",
       "\n",
       "[13799 rows x 9 columns]"
      ]
     },
     "execution_count": 25,
     "metadata": {},
     "output_type": "execute_result"
    }
   ],
   "source": [
    "#Adding day and month to the data frame\n",
    "\n",
    "df[\"Day\"] = df[\"Order Date\"].dt.strftime(\"%d/%m\")\n",
    "df[\"Month\"] = df[\"Order Date\"].dt.strftime(\"%m/%y\")\n",
    "df"
   ]
  },
  {
   "cell_type": "markdown",
   "metadata": {},
   "source": [
    "<b>The trend of profit from January to December with a line plot"
   ]
  },
  {
   "cell_type": "code",
   "execution_count": 26,
   "metadata": {},
   "outputs": [
    {
     "data": {
      "text/plain": [
       "[<matplotlib.lines.Line2D at 0x25f96a0d0d0>]"
      ]
     },
     "execution_count": 26,
     "metadata": {},
     "output_type": "execute_result"
    },
    {
     "data": {
      "image/png": "[encoded data removed]",
      "text/plain": [
       "<Figure size 1080x432 with 1 Axes>"
      ]
     },
     "metadata": {
      "needs_background": "light"
     },
     "output_type": "display_data"
    }
   ],
   "source": [
    "#Total Profit per month\n",
    "trend_df = df.groupby([\"Month\"]).sum().reset_index()\n",
    "\n",
    "#plot the trend on a line graph\n",
    "\n",
    "plt.figure(figsize=(15, 6))\n",
    "plt.xlabel(\"Month\")\n",
    "plt.ylabel(\"Profit\")\n",
    "plt.title(\"A line plot showing the trend of profit from January to December\")\n",
    "plt.plot(trend_df[\"Month\"], trend_df[\"Profit\"])"
   ]
  },
  {
   "cell_type": "markdown",
   "metadata": {},
   "source": [
    "<b>The day with the highest sales on the average"
   ]
  },
  {
   "cell_type": "code",
   "execution_count": 27,
   "metadata": {},
   "outputs": [
    {
     "data": {
      "text/html": [
       "<div>\n",
       "<style scoped>\n",
       "    .dataframe tbody tr th:only-of-type {\n",
       "        vertical-align: middle;\n",
       "    }\n",
       "\n",
       "    .dataframe tbody tr th {\n",
       "        vertical-align: top;\n",
       "    }\n",
       "\n",
       "    .dataframe thead th {\n",
       "        text-align: right;\n",
       "    }\n",
       "</style>\n",
       "<table border=\"1\" class=\"dataframe\">\n",
       "  <thead>\n",
       "    <tr style=\"text-align: right;\">\n",
       "      <th></th>\n",
       "      <th>Sales</th>\n",
       "      <th>Quantity</th>\n",
       "      <th>Profit</th>\n",
       "    </tr>\n",
       "    <tr>\n",
       "      <th>Day</th>\n",
       "      <th></th>\n",
       "      <th></th>\n",
       "      <th></th>\n",
       "    </tr>\n",
       "  </thead>\n",
       "  <tbody>\n",
       "    <tr>\n",
       "      <th>27/10</th>\n",
       "      <td>795.132000</td>\n",
       "      <td>3.000000</td>\n",
       "      <td>77.472000</td>\n",
       "    </tr>\n",
       "    <tr>\n",
       "      <th>18/02</th>\n",
       "      <td>622.321700</td>\n",
       "      <td>4.250000</td>\n",
       "      <td>114.271700</td>\n",
       "    </tr>\n",
       "    <tr>\n",
       "      <th>10/03</th>\n",
       "      <td>612.216232</td>\n",
       "      <td>4.116279</td>\n",
       "      <td>217.034723</td>\n",
       "    </tr>\n",
       "    <tr>\n",
       "      <th>02/03</th>\n",
       "      <td>602.355000</td>\n",
       "      <td>5.500000</td>\n",
       "      <td>119.352000</td>\n",
       "    </tr>\n",
       "    <tr>\n",
       "      <th>01/12</th>\n",
       "      <td>580.283662</td>\n",
       "      <td>4.384615</td>\n",
       "      <td>77.175969</td>\n",
       "    </tr>\n",
       "    <tr>\n",
       "      <th>...</th>\n",
       "      <td>...</td>\n",
       "      <td>...</td>\n",
       "      <td>...</td>\n",
       "    </tr>\n",
       "    <tr>\n",
       "      <th>07/07</th>\n",
       "      <td>51.520000</td>\n",
       "      <td>7.000000</td>\n",
       "      <td>0.000000</td>\n",
       "    </tr>\n",
       "    <tr>\n",
       "      <th>13/01</th>\n",
       "      <td>46.116000</td>\n",
       "      <td>4.000000</td>\n",
       "      <td>11.676000</td>\n",
       "    </tr>\n",
       "    <tr>\n",
       "      <th>10/06</th>\n",
       "      <td>36.460200</td>\n",
       "      <td>2.500000</td>\n",
       "      <td>4.600200</td>\n",
       "    </tr>\n",
       "    <tr>\n",
       "      <th>17/03</th>\n",
       "      <td>35.340000</td>\n",
       "      <td>3.000000</td>\n",
       "      <td>9.180000</td>\n",
       "    </tr>\n",
       "    <tr>\n",
       "      <th>18/08</th>\n",
       "      <td>12.036000</td>\n",
       "      <td>3.000000</td>\n",
       "      <td>3.207800</td>\n",
       "    </tr>\n",
       "  </tbody>\n",
       "</table>\n",
       "<p>360 rows × 3 columns</p>\n",
       "</div>"
      ],
      "text/plain": [
       "            Sales  Quantity      Profit\n",
       "Day                                    \n",
       "27/10  795.132000  3.000000   77.472000\n",
       "18/02  622.321700  4.250000  114.271700\n",
       "10/03  612.216232  4.116279  217.034723\n",
       "02/03  602.355000  5.500000  119.352000\n",
       "01/12  580.283662  4.384615   77.175969\n",
       "...           ...       ...         ...\n",
       "07/07   51.520000  7.000000    0.000000\n",
       "13/01   46.116000  4.000000   11.676000\n",
       "10/06   36.460200  2.500000    4.600200\n",
       "17/03   35.340000  3.000000    9.180000\n",
       "18/08   12.036000  3.000000    3.207800\n",
       "\n",
       "[360 rows x 3 columns]"
      ]
     },
     "execution_count": 27,
     "metadata": {},
     "output_type": "execute_result"
    }
   ],
   "source": [
    "#Average Sales per Day\n",
    "\n",
    "df.groupby([\"Day\"]).mean().sort_values(\"Sales\", ascending=False)"
   ]
  },
  {
   "cell_type": "markdown",
   "metadata": {},
   "source": [
    "The day with high sales on average is 27/10 (Saturday)."
   ]
  },
  {
   "cell_type": "markdown",
   "metadata": {},
   "source": [
    "<b>Correlation between Sales and Profit"
   ]
  },
  {
   "cell_type": "code",
   "execution_count": 29,
   "metadata": {},
   "outputs": [
    {
     "data": {
      "text/plain": [
       "array([[1.       , 0.5214111],\n",
       "       [0.5214111, 1.       ]])"
      ]
     },
     "execution_count": 29,
     "metadata": {},
     "output_type": "execute_result"
    }
   ],
   "source": [
    "#Using Pearson correlation coefficient\n",
    "\n",
    "x = df[\"Sales\"]\n",
    "y = df[\"Profit\"]\n",
    "r = np.corrcoef(x, y)\n",
    "r"
   ]
  },
  {
   "cell_type": "markdown",
   "metadata": {},
   "source": [
    "The sales and profit of the company have a positive correlation coefficient of 0.52. This shows a strong correlation between sales and the profit of the company. That is, an increase in sales corresponds to the same amount of increase in profit and vice versa. Therefore, sales and profit tend to move in the same direction."
   ]
  },
  {
   "cell_type": "markdown",
   "metadata": {},
   "source": [
    "<b>A scatter plot to show the relationship between sales and profit"
   ]
  },
  {
   "cell_type": "code",
   "execution_count": 30,
   "metadata": {},
   "outputs": [
    {
     "data": {
      "image/png": "[encoded data removed]",
      "text/plain": [
       "<Figure size 432x288 with 1 Axes>"
      ]
     },
     "metadata": {
      "needs_background": "light"
     },
     "output_type": "display_data"
    }
   ],
   "source": [
    "#Plotting a scatter chart\n",
    "\n",
    "plt.scatter(x, y)\n",
    "plt.xlabel(\"Sales\")\n",
    "plt.ylabel(\"Profit\")\n",
    "plt.title(\"A scatter plot to show the relationship between sales and profit\")\n",
    "plt.show()"
   ]
  },
  {
   "cell_type": "markdown",
   "metadata": {},
   "source": [
    "<b>A grouped bar chart showing the total profit for the different product categories (Category) for each market."
   ]
  },
  {
   "cell_type": "code",
   "execution_count": 31,
   "metadata": {},
   "outputs": [
    {
     "data": {
      "image/png": "[encoded data removed]",
      "text/plain": [
       "<Figure size 1080x432 with 1 Axes>"
      ]
     },
     "metadata": {
      "needs_background": "light"
     },
     "output_type": "display_data"
    }
   ],
   "source": [
    "#Rearrange the dataset\n",
    "\n",
    "total_profit = df.groupby([\"Market\",\"Category\"]).sum().reset_index()\n",
    "\n",
    "# Plot grouped bar chart \n",
    "\n",
    "total_profit.pivot(index = \"Market\", columns = \"Category\", values = \"Profit\").plot(kind = \"bar\", figsize=(15, 6))\n",
    "plt.xlabel(\"Market\")\n",
    "plt.ylabel(\"Profit\")\n",
    "plt.title(\"A grouped bar chart showing the total profit for the different product Category for each market.\")\n",
    "plt.legend()\n",
    "plt.show()"
   ]
  },
  {
   "cell_type": "markdown",
   "metadata": {},
   "source": [
    "In Accra, Koforidua, and Kumasi, technology is the product category that is performing well relative to the others, but in Bawku and Takoradi, office supplies is the product category that is performing well relative to the other two. This is evident from the graph."
   ]
  },
  {
   "cell_type": "code",
   "execution_count": null,
   "metadata": {},
   "outputs": [],
   "source": []
  }
 ],
 "metadata": {
  "kernelspec": {
   "display_name": "Python 3 (ipykernel)",
   "language": "python",
   "name": "python3"
  },
  "language_info": {
   "codemirror_mode": {
    "name": "ipython",
    "version": 3
   },
   "file_extension": ".py",
   "mimetype": "text/x-python",
   "name": "python",
   "nbconvert_exporter": "python",
   "pygments_lexer": "ipython3",
   "version": "3.9.12"
  }
 },
 "nbformat": 4,
 "nbformat_minor": 4
}
